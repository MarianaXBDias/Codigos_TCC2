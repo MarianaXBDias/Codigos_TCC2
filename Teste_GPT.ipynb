{
 "cells": [
  {
   "cell_type": "code",
   "execution_count": 54,
   "metadata": {},
   "outputs": [
    {
     "name": "stderr",
     "output_type": "stream",
     "text": [
      "The attention mask and the pad token id were not set. As a consequence, you may observe unexpected behavior. Please pass your input's `attention_mask` to obtain reliable results.\n",
      "Setting `pad_token_id` to `eos_token_id`:50256 for open-end generation.\n"
     ]
    },
    {
     "name": "stdout",
     "output_type": "stream",
     "text": [
      "You asked: who are you? Here is my response:\n",
      "\n",
      "\n",
      "\n",
      "\n",
      "I have the answer\n",
      "As for what you were asking.\n",
      "What is your reaction?\n",
      "A lot of the questions and answers were as I was starting out with, but when I was growing up looking at this new business, I was told that it would take much longer than that.\n",
      "What will we do when we can find someone who has the skills, the skills in a way that you cannot imagine today\n"
     ]
    }
   ],
   "source": [
    "from transformers import GPT2LMHeadModel, GPT2Tokenizer # importando o modelo de linguagem baseado no GPT-2\n",
    "\n",
    "# carregar modelo \n",
    "tokenizer = GPT2Tokenizer.from_pretrained(\"distilgpt2\") # transformar o texto em IDs numéricos \n",
    "model = GPT2LMHeadModel.from_pretrained(\"distilgpt2\")   # baseado nos tokens de entrada vai gerar uma saída\n",
    "\n",
    "#Entrada \n",
    "input_text = \"You asked: who are you? Here is my response:\\n\"\n",
    "input_ids = tokenizer.encode(input_text, return_tensors=\"pt\")\n",
    "\n",
    "#Saída\n",
    "output = model.generate(\n",
    "    input_ids,\n",
    "    max_length=100,  # Comprimento da saída\n",
    "    min_length=20,   # Evitar respostas muito curtas\n",
    "    num_return_sequences=1,# Apenas 1 resposta\n",
    "    temperature=1,  # aleatoriedade da saída\n",
    "    do_sample=True,  # respostas variadas\n",
    "    top_k=50,  # considera  os 50 tokens mais prováveis\n",
    "    eos_token_id=tokenizer.eos_token_id  #fim da geração da resposta\n",
    ")\n",
    "\n",
    "#Decode=converte de volta a saída, skip_special_tokens= remove tokens especiais\n",
    "print(tokenizer.decode(output[0], skip_special_tokens=True))\n"
   ]
  }
 ],
 "metadata": {
  "kernelspec": {
   "display_name": "Python 3",
   "language": "python",
   "name": "python3"
  },
  "language_info": {
   "codemirror_mode": {
    "name": "ipython",
    "version": 3
   },
   "file_extension": ".py",
   "mimetype": "text/x-python",
   "name": "python",
   "nbconvert_exporter": "python",
   "pygments_lexer": "ipython3",
   "version": "3.11.4"
  }
 },
 "nbformat": 4,
 "nbformat_minor": 2
}

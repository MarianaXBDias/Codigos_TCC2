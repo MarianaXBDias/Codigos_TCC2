{
 "cells": [
  {
   "cell_type": "markdown",
   "metadata": {},
   "source": [
    "### Testando o modelo LLama 3.3 - 70B via requisições à plataforma Groq\n",
    "\n",
    "---"
   ]
  },
  {
   "cell_type": "code",
   "execution_count": null,
   "metadata": {},
   "outputs": [
    {
     "name": "stderr",
     "output_type": "stream",
     "text": [
      "Downloading...\n",
      "From: https://drive.google.com/uc?id=1hdhYbHFjArq1tKGsDEyz-dSKKCiGx_zi\n",
      "To: c:\\Users\\maria\\OneDrive\\Documents\\UFS\\12periodo\\TCC2\\CodigosTCC2\\meta-earnings-llama-parse-short.md\n",
      "\n",
      "  0%|          | 0.00/8.57k [00:00<?, ?B/s]\n",
      "100%|██████████| 8.57k/8.57k [00:00<00:00, 8.54MB/s]\n"
     ]
    }
   ],
   "source": [
    "#importando arquivo do drive que será usado para teste\n",
    "!gdown 1hdhYbHFjArq1tKGsDEyz-dSKKCiGx_zi\n",
    "\n",
    "# Importando as bibliotecas\n",
    "import json                 # manipulação de dados no formato JSON\n",
    "import os                   # interagir com o SO - acesso de arquivos\n",
    "import textwrap             # manipulação de textos\n",
    "from enum import Enum       # importa classe ENUM para crias enumeradores\n",
    "from pathlib import Path    # manipular caminhos de arquivos\n",
    "import pandas as pd                                     # manipulação de dados estruturados\n",
    "from dotenv import load_dotenv                          # manipulaçõ de tokens\n",
    "from groq import Groq                                   # interação com a API do Groq\n",
    "from IPython.display import Image, Markdown, display    # exibir imagens, renderizar markdown e controlar saídas visuais\n",
    "from tqdm import tqdm                                   # criar barras de progresso em loops\n",
    "\n",
    "load_dotenv()   # carrega variáveis de ambiente de um arquivo .env\n",
    "\n",
    "MODEL = \"llama-3.3-70b-versatile\"   # variável com o nome do modelo\n",
    "TEMPERATURE = 0     # Controle da aleatoriedade das saídas (0 = saída determinística, prorizando respostas mais prováveis)\n",
    "client = Groq(api_key=\"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\")   # inicializa cliente com chave de API fornecida\n",
    "meta_earnings = Path(\"meta-earnings-llama-parse-short.md\").read_text()  # lê o conteúdo do arquivo e armazena na variável\n"
   ]
  },
  {
   "cell_type": "code",
   "execution_count": 6,
   "metadata": {},
   "outputs": [],
   "source": [
    "class ResponseFormat(Enum): # cria classe enumeradora\n",
    "    JSON = \"json_object\"    # resposta em formato JSON\n",
    "    TEXT = \"text\"           # resposta em formato de texto\n",
    "\n",
    "\n",
    "def call_model(     # função para interagir com o modelo\n",
    "    prompt: str, response_format: ResponseFormat = ResponseFormat.TEXT  # define parâmetro obrigatório (prompt-string) que será enviado ao modelo\n",
    ") -> str:           # função retorna uma string\n",
    "    messages = [    # define a mensagem enviada ao modelo\n",
    "        {\n",
    "            \"role\": \"user\",     # mensagem q vem do usuário\n",
    "            \"content\": prompt,  # conteúdo da mensagem\n",
    "        }\n",
    "    ]\n",
    "    response = client.chat.completions.create(  # cahama o método da API para gerar uma resposta\n",
    "        model=MODEL,                # especifica o modelo (LLama3.3)\n",
    "        messages=messages,          # passa as mensagens para o modelo\n",
    "        temperature=TEMPERATURE,    \n",
    "        response_format={           # verifica se o formato da resposta é JSON, se for define para JSON, senão define para TEXT\n",
    "            \"type\": \"json_object\" if response_format == ResponseFormat.JSON else \"text\"\n",
    "        },\n",
    "    )\n",
    "    return response.choices[0].message.content  # acessa a primeira escolha de resposta e extrai o conteúdo"
   ]
  },
  {
   "cell_type": "code",
   "execution_count": 8,
   "metadata": {},
   "outputs": [
    {
     "name": "stdout",
     "output_type": "stream",
     "text": [
      "A Meta Platforms, Inc. divulgou seus resultados financeiros do primeiro trimestre de 2024. A receita\n",
      "foi de $36,455 milhões, um aumento de 27% em relação ao ano anterior. O lucro líquido foi de $12,369\n",
      "milhões, um aumento de 117% em relação ao ano anterior. A empresa também anunciou um aumento de 7%\n",
      "no número de pessoas ativas diariamente em sua família de aplicativos. A Meta espera que a receita\n",
      "total do segundo trimestre de 2024 seja entre $36,5 e $39 bilhões.\n"
     ]
    }
   ],
   "source": [
    "# Teste: Sumarização\n",
    "\n",
    "# prompt passado ao modelo\n",
    "SUMMARIZE_PROMPT = f\"\"\"\n",
    "Resuma o texto abaixo em um parágrafo de 5 linhas\n",
    "\n",
    "<text>\n",
    "{meta_earnings}\n",
    "</text>\n",
    "\n",
    "Mostre seu resumo abaixo\n",
    "\"\"\"\n",
    "\n",
    "# chamada da função e exibição da resposta\n",
    "response = call_model(SUMMARIZE_PROMPT)\n",
    "print(textwrap.fill(response, width=100))"
   ]
  }
 ],
 "metadata": {
  "kernelspec": {
   "display_name": "Python 3",
   "language": "python",
   "name": "python3"
  },
  "language_info": {
   "codemirror_mode": {
    "name": "ipython",
    "version": 3
   },
   "file_extension": ".py",
   "mimetype": "text/x-python",
   "name": "python",
   "nbconvert_exporter": "python",
   "pygments_lexer": "ipython3",
   "version": "3.10.11"
  }
 },
 "nbformat": 4,
 "nbformat_minor": 2
}
